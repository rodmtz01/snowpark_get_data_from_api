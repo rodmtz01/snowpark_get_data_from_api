{
 "cells": [
  {
   "cell_type": "code",
   "execution_count": null,
   "metadata": {},
   "outputs": [],
   "source": [
    "#Import libraries \n",
    "import requests\n",
    "from snowflake.snowpark.session import Session\n",
    "from snowflake.snowpark import DataFrame\n"
   ]
  },
  {
   "cell_type": "code",
   "execution_count": null,
   "metadata": {},
   "outputs": [],
   "source": [
    "#Set Connection parameters for snowflake \n",
    "connection_parameters = {\"account\":\"YOUR_ACCOUNT\",\n",
    "\"user\":\"SNOWFLAKE_USER\",\n",
    "\"password\": \"SNOWFLAKE_USER_PASSWORD\",\n",
    "\"role\":\"SNOWFLAKE_USER_ROLE\",\n",
    "\"warehouse\":\"VIRTUAL_WAREHOUSE\",\n",
    "\"database\":\"YOUR_DATABASE\",\n",
    "\"schema\":\"YOUR_SCHEMA\"\n",
    "}"
   ]
  },
  {
   "cell_type": "code",
   "execution_count": null,
   "metadata": {},
   "outputs": [],
   "source": [
    "#Create snowflake session using the connection parameters\n",
    "session = Session.builder.configs(connection_parameters).create()\n",
    "print(session.get_current_account())\n"
   ]
  },
  {
   "cell_type": "code",
   "execution_count": null,
   "metadata": {},
   "outputs": [],
   "source": [
    "#call api endpoint using requests\n",
    "url = 'https://vpic.nhtsa.dot.gov/api/vehicles/getallmanufacturers?format=json'\n",
    "r = requests.get(url)"
   ]
  },
  {
   "cell_type": "code",
   "execution_count": null,
   "metadata": {},
   "outputs": [],
   "source": [
    "#Parse request to JSON\n",
    "requestJson = r.json()"
   ]
  },
  {
   "cell_type": "code",
   "execution_count": null,
   "metadata": {},
   "outputs": [],
   "source": [
    "#Create a snowpark data frame using request JSON\n",
    "df = session.createDataFrame(requestJson['Results'])\n",
    "df.show()"
   ]
  },
  {
   "cell_type": "code",
   "execution_count": null,
   "metadata": {},
   "outputs": [],
   "source": [
    "#To upper case name of columns\n",
    "def uppercase_all_columns(df: DataFrame) -> DataFrame:\n",
    "    return df.select([df.col(column).as_(column.upper()) for column in df.columns])\n",
    "df = uppercase_all_columns(df)\n",
    "df.show()"
   ]
  },
  {
   "cell_type": "code",
   "execution_count": null,
   "metadata": {},
   "outputs": [],
   "source": [
    "#Select only relevant columns\n",
    "df = df.select('COUNTRY','MFR_COMMONNAME','MFR_ID', 'MFR_NAME')\n",
    "df.show()"
   ]
  },
  {
   "cell_type": "code",
   "execution_count": null,
   "metadata": {},
   "outputs": [],
   "source": [
    "#Write table into snowflake using the dataframe \n",
    "df.write.mode(\"overwrite\").save_as_table(\"CARS_MANUFACTER_EXAMPLE\")"
   ]
  },
  {
   "cell_type": "code",
   "execution_count": null,
   "metadata": {},
   "outputs": [],
   "source": [
    "#Close snowflake session \n",
    "session.close()"
   ]
  }
 ],
 "metadata": {
  "kernelspec": {
   "display_name": "snowpark_env",
   "language": "python",
   "name": "python3"
  },
  "language_info": {
   "codemirror_mode": {
    "name": "ipython",
    "version": 3
   },
   "file_extension": ".py",
   "mimetype": "text/x-python",
   "name": "python",
   "nbconvert_exporter": "python",
   "pygments_lexer": "ipython3",
   "version": "3.9.18"
  }
 },
 "nbformat": 4,
 "nbformat_minor": 2
}
